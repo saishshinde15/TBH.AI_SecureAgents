{
  "cells": [
    {
      "cell_type": "markdown",
      "metadata": {
        "colab_type": "text",
        "id": "view-in-github"
      },
      "source": [
        "<a href=\"https://colab.research.google.com/github/saishshinde15/TBH.AI_SecureAgents/blob/main/examples/colab_notebooks/TBH_Secure_Agents_Demo.ipynb\" target=\"_parent\"><img src=\"https://colab.research.google.com/assets/colab-badge.svg\" alt=\"Open In Colab\"/></a>"
      ]
    },
    {
      "cell_type": "markdown",
      "metadata": {
        "id": "introduction"
      },
      "source": [
        "# TBH Secure Agents Demo\n",
        "\n",
        "<img width=\"618\" alt=\"Main\" src=\"https://github.com/user-attachments/assets/dbbf5a4f-7b0b-4f43-9b37-ef77dc761ff1\" />\n",
        "\n",
        "This notebook demonstrates how to use the TBH Secure Agents package to create secure multi-agent systems. The package provides a framework for building AI agent systems with robust security controls to prevent common vulnerabilities."
      ]
    },
    {
      "cell_type": "markdown",
      "metadata": {
        "id": "installation"
      },
      "source": [
        "## Installation\n",
        "\n",
        "First, let's install the package from PyPI:"
      ]
    },
    {
      "cell_type": "code",
      "execution_count": null,
      "metadata": {
        "id": "install-package"
      },
      "outputs": [],
      "source": [
        "!pip install tbh-secure-agents"
      ]
    },
    {
      "cell_type": "markdown",
      "metadata": {
        "id": "api-key"
      },
      "source": [
        "## Set up API Key\n",
        "\n",
        "The package uses Google's Gemini API. Let's set up the API key:"
      ]
    },
    {
      "cell_type": "code",
      "execution_count": null,
      "metadata": {
        "id": "set-api-key"
      },
      "outputs": [],
      "source": [
        "import os\n",
        "\n",
        "# Set your Google API key\n",
        "os.environ[\"GOOGLE_API_KEY\"] = \"\""
      ]
    },
    {
      "cell_type": "markdown",
      "metadata": {
        "id": "import-classes"
      },
      "source": [
        "## Import the Classes\n",
        "\n",
        "Now, let's import the main classes from the package:"
      ]
    },
    {
      "cell_type": "code",
      "execution_count": null,
      "metadata": {
        "id": "import-code"
      },
      "outputs": [],
      "source": [
        "from tbh_secure_agents import Expert, Operation, Squad"
      ]
    },
    {
      "cell_type": "markdown",
      "metadata": {
        "id": "create-experts"
      },
      "source": [
        "## Create Experts\n",
        "\n",
        "Let's create some experts with specific specialties and security profiles:"
      ]
    },
    {
      "cell_type": "code",
      "execution_count": null,
      "metadata": {
        "id": "experts-code"
      },
      "outputs": [],
      "source": [
        "# Create experts with specific security profiles\n",
        "research_expert = Expert(\n",
        "    specialty=\"Technology Researcher\",\n",
        "    objective=\"Research and analyze technology trends\",\n",
        "    background=\"Expert in technology research with focus on enterprise solutions\",\n",
        "    security_profile=\"medium_security\"\n",
        ")\n",
        "\n",
        "analysis_expert = Expert(\n",
        "    specialty=\"Business Analyst\",\n",
        "    objective=\"Analyze business implications of technology trends\",\n",
        "    background=\"Specialized in business impact analysis\",\n",
        "    security_profile=\"medium_security\"\n",
        ")\n",
        "\n",
        "print(f\"Created expert: {research_expert.specialty}\")\n",
        "print(f\"Created expert: {analysis_expert.specialty}\")"
      ]
    },
    {
      "cell_type": "markdown",
      "metadata": {
        "id": "create-operations"
      },
      "source": [
        "## Define Operations\n",
        "\n",
        "Now, let's define operations for the experts to perform:"
      ]
    },
    {
      "cell_type": "code",
      "execution_count": null,
      "metadata": {
        "id": "operations-code"
      },
      "outputs": [],
      "source": [
        "# Define operations for the experts\n",
        "research_operation = Operation(\n",
        "    instructions=\"\"\"\n",
        "    Research the latest trends in cloud computing for small businesses.\n",
        "    Focus on:\n",
        "    1. Popular cloud services\n",
        "    2. Cost considerations\n",
        "    3. Implementation challenges\n",
        "    \"\"\",\n",
        "    output_format=\"A detailed research summary with key findings\",\n",
        "    expert=research_expert\n",
        ")\n",
        "\n",
        "analysis_operation = Operation(\n",
        "    instructions=\"\"\"\n",
        "    Based on the research findings, analyze how small businesses can\n",
        "    implement cloud solutions effectively.\n",
        "    \"\"\",\n",
        "    output_format=\"An analysis report with recommendations\",\n",
        "    expert=analysis_expert\n",
        ")\n",
        "\n",
        "print(\"Operations defined successfully.\")"
      ]
    },
    {
      "cell_type": "markdown",
      "metadata": {
        "id": "create-squad"
      },
      "source": [
        "## Create a Squad\n",
        "\n",
        "Let's create a squad with the experts and operations:"
      ]
    },
    {
      "cell_type": "code",
      "execution_count": null,
      "metadata": {
        "id": "squad-code"
      },
      "outputs": [],
      "source": [
        "# Create a squad with the experts and operations\n",
        "business_squad = Squad(\n",
        "    experts=[research_expert, analysis_expert],\n",
        "    operations=[research_operation, analysis_operation],\n",
        "    process=\"sequential\"  # Operations run in sequence\n",
        ")\n",
        "\n",
        "print(f\"Squad created with {len(business_squad.experts)} experts and {len(business_squad.operations)} operations.\")"
      ]
    },
    {
      "cell_type": "markdown",
      "metadata": {
        "id": "deploy-squad"
      },
      "source": [
        "## Deploy the Squad\n",
        "\n",
        "Now, let's deploy the squad and get the results:"
      ]
    },
    {
      "cell_type": "code",
      "execution_count": null,
      "metadata": {
        "id": "deploy-code"
      },
      "outputs": [],
      "source": [
        "# Deploy the squad and get the final result\n",
        "try:\n",
        "    print(\"Deploying squad...\")\n",
        "    result = business_squad.deploy()\n",
        "    \n",
        "    print(\"\\n\" + \"=\"*80)\n",
        "    print(\"FINAL REPORT\".center(80))\n",
        "    print(\"=\"*80 + \"\\n\")\n",
        "    print(result)\n",
        "    print(\"\\n\" + \"=\"*80)\n",
        "    \n",
        "except Exception as e:\n",
        "    print(f\"Error during squad deployment: {e}\")"
      ]
    },
    {
      "cell_type": "markdown",
      "metadata": {
        "id": "conclusion"
      },
      "source": [
        "## Conclusion\n",
        "\n",
        "This notebook demonstrated how to use the TBH Secure Agents package to create a secure multi-agent system. The package provides a framework for building AI agent systems with robust security controls to prevent common vulnerabilities.\n",
        "\n",
        "For more information, visit the [GitHub repository](https://github.com/saishshinde15/TBH.AI_SecureAgents)."
      ]
    }
  ],
  "metadata": {
    "colab": {
      "include_colab_link": true,
      "provenance": []
    },
    "kernelspec": {
      "display_name": "Python 3",
      "name": "python3"
    },
    "language_info": {
      "name": "python"
    }
  },
  "nbformat": 4,
  "nbformat_minor": 0
}
