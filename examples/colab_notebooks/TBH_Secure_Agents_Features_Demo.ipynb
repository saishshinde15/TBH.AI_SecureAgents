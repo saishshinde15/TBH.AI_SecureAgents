{
 "cells": [
  {
   "cell_type": "markdown",
   "metadata": {},
   "source": [
    "# TBH Secure Agents - Features Demo\n",
    "\n",
    "This notebook demonstrates the key features of the TBH Secure Agents framework, including:\n",
    "\n",
    "1. **Basic Usage**: Creating experts, operations, and squads\n",
    "2. **Security Profiles**: Using different security profiles (minimal, low, standard)\n",
    "3. **Guardrails**: Using template variables and conditional formatting\n",
    "4. **Result Destination**: Saving results to files in various formats\n",
    "\n",
    "We'll use minimal security settings throughout this notebook to make it easier to understand and run."
   ]
  },
  {
   "cell_type": "markdown",
   "metadata": {},
   "source": [
    "## Setup\n",
    "\n",
    "First, let's install the TBH Secure Agents package and set up our environment."
   ]
  },
  {
   "cell_type": "code",
   "execution_count": null,
   "metadata": {},
   "outputs": [],
   "source": [
    "# Install the package\n",
    "!pip install tbh-secure-agents"
   ]
  },
  {
   "cell_type": "code",
   "execution_count": null,
   "metadata": {},
   "outputs": [],
   "source": [
    "# Import the necessary modules\n",
    "from tbh_secure_agents import Expert, Operation, Squad\n",
    "import os\n",
    "import json\n",
    "from IPython.display import display, Markdown, HTML\n",
    "\n",
    "# Create an output directory for saving results\n",
    "os.makedirs('output', exist_ok=True)"
   ]
  },
  {
   "cell_type": "markdown",
   "metadata": {},
   "source": [
    "### Set your API Key\n",
    "\n",
    "You need to set your Google API key to use the Gemini model. You can get an API key from the [Google AI Studio](https://makersuite.google.com/app/apikey)."
   ]
  },
  {
   "cell_type": "code",
   "execution_count": null,
   "metadata": {},
   "outputs": [],
   "source": [
    "# Set your API key here\n",
    "API_KEY = \"\"  # Replace with your actual API key\n",
    "\n",
    "# Alternatively, you can set it as an environment variable\n",
    "# os.environ[\"GOOGLE_API_KEY\"] = \"your_api_key_here\""
   ]
  },
  {
   "cell_type": "markdown",
   "metadata": {},
   "source": [
    "## 1. Basic Usage\n",
    "\n",
    "Let's start with the basics: creating experts, operations, and squads."
   ]
  },
  {
   "cell_type": "markdown",
   "metadata": {},
   "source": [
    "### Creating Experts\n",
    "\n",
    "An expert is an autonomous entity designed to perform specific operations. Each expert has a specialty, objective, and background."
   ]
  },
  {
   "cell_type": "code",
   "execution_count": null,
   "metadata": {},
   "outputs": [],
   "source": [
    "# Create a content writer expert\n",
    "content_writer = Expert(\n",
    "    specialty=\"Content Writer\",\n",
    "    objective=\"Create engaging and informative content\",\n",
    "    background=\"You are an experienced content writer with expertise in creating clear, concise, and engaging content.\",\n",
    "    api_key=API_KEY,\n",
    "    security_level=\"minimal\"  # Using minimal security for simplicity\n",
    ")\n",
    "\n",
    "# Create a data analyst expert\n",
    "data_analyst = Expert(\n",
    "    specialty=\"Data Analyst\",\n",
    "    objective=\"Analyze data and provide insights\",\n",
    "    background=\"You are a skilled data analyst with experience in interpreting data and extracting meaningful insights.\",\n",
    "    api_key=API_KEY,\n",
    "    security_level=\"minimal\"  # Using minimal security for simplicity\n",
    ")"
   ]
  },
  {
   "cell_type": "markdown",
   "metadata": {},
   "source": [
    "### Creating Operations\n",
    "\n",
    "An operation defines a unit of work to be performed by an expert. Each operation has instructions and an assigned expert."
   ]
  },
  {
   "cell_type": "code",
   "execution_count": null,
   "metadata": {},
   "outputs": [],
   "source": [
    "# Create an operation for the content writer\n",
    "content_operation = Operation(\n",
    "    instructions=\"Write a short blog post about the benefits of artificial intelligence in healthcare.\",\n",
    "    output_format=\"A well-structured blog post with a title, introduction, main points, and conclusion.\",\n",
    "    expert=content_writer\n",
    ")\n",
    "\n",
    "# Create an operation for the data analyst\n",
    "analysis_operation = Operation(\n",
    "    instructions=\"Analyze the following data and provide insights: Patient wait times decreased by 30% after implementing AI scheduling. Diagnostic accuracy improved by 15%. Treatment planning time reduced by 25%.\",\n",
    "    output_format=\"A concise analysis with key insights and recommendations.\",\n",
    "    expert=data_analyst\n",
    ")"
   ]
  },
  {
   "cell_type": "markdown",
   "metadata": {},
   "source": [
    "### Creating and Deploying a Squad\n",
    "\n",
    "A squad manages a group of experts and orchestrates the execution of operations."
   ]
  },
  {
   "cell_type": "code",
   "execution_count": null,
   "metadata": {},
   "outputs": [],
   "source": [
    "# Create a squad with both experts and operations\n",
    "healthcare_squad = Squad(\n",
    "    experts=[content_writer, data_analyst],\n",
    "    operations=[content_operation, analysis_operation],\n",
    "    process=\"sequential\",  # Operations run in sequence\n",
    "    security_level=\"minimal\"  # Using minimal security for simplicity\n",
    ")\n",
    "\n",
    "# Deploy the squad\n",
    "result = healthcare_squad.deploy()\n",
    "\n",
    "# Display the result\n",
    "display(Markdown(result))"
   ]
  },
  {
   "cell_type": "markdown",
   "metadata": {},
   "source": [
    "## 2. Security Profiles\n",
    "\n",
    "The framework supports different security profiles: minimal, low, standard, high, and maximum. Let's see how they affect the behavior of experts and squads."
   ]
  },
  {
   "cell_type": "code",
   "execution_count": null,
   "metadata": {},
   "outputs": [],
   "source": [
    "# Create experts with different security profiles\n",
    "minimal_expert = Expert(\n",
    "    specialty=\"Content Writer\",\n",
    "    objective=\"Create engaging content\",\n",
    "    api_key=API_KEY,\n",
    "    security_level=\"minimal\"  # Minimal security checks\n",
    ")\n",
    "\n",
    "low_expert = Expert(\n",
    "    specialty=\"Content Writer\",\n",
    "    objective=\"Create engaging content\",\n",
    "    api_key=API_KEY,\n",
    "    security_level=\"low\"  # Low security checks\n",
    ")\n",
    "\n",
    "standard_expert = Expert(\n",
    "    specialty=\"Content Writer\",\n",
    "    objective=\"Create engaging content\",\n",
    "    api_key=API_KEY,\n",
    "    security_level=\"standard\"  # Standard security checks (default)\n",
    ")"
   ]
  },
  {
   "cell_type": "code",
   "execution_count": null,
   "metadata": {},
   "outputs": [],
   "source": [
    "# Create operations for each expert\n",
    "minimal_operation = Operation(\n",
    "    instructions=\"Write a short paragraph about artificial intelligence.\",\n",
    "    expert=minimal_expert\n",
    ")\n",
    "\n",
    "low_operation = Operation(\n",
    "    instructions=\"Write a short paragraph about artificial intelligence.\",\n",
    "    expert=low_expert\n",
    ")\n",
    "\n",
    "standard_operation = Operation(\n",
    "    instructions=\"Write a short paragraph about artificial intelligence.\",\n",
    "    expert=standard_expert\n",
    ")"
   ]
  },
  {
   "cell_type": "code",
   "execution_count": null,
   "metadata": {},
   "outputs": [],
   "source": [
    "# Execute the operations and compare the results\n",
    "print(\"Minimal Security:\")\n",
    "minimal_result = minimal_operation.execute()\n",
    "display(Markdown(minimal_result))\n",
    "\n",
    "print(\"\\nLow Security:\")\n",
    "low_result = low_operation.execute()\n",
    "display(Markdown(low_result))\n",
    "\n",
    "print(\"\\nStandard Security:\")\n",
    "standard_result = standard_operation.execute()\n",
    "display(Markdown(standard_result))"
   ]
  },
  {
   "cell_type": "markdown",
   "metadata": {},
   "source": [
    "## 3. Guardrails\n",
    "\n",
    "Guardrails provide a way to pass dynamic inputs to your Squad during deployment. These inputs can be used to guide the experts' responses, enforce constraints, and provide additional context."
   ]
  },
  {
   "cell_type": "markdown",
   "metadata": {},
   "source": [
    "### Basic Template Variables\n",
    "\n",
    "You can use template variables in expert profiles and operation instructions."
   ]
  },
  {
   "cell_type": "code",
   "execution_count": null,
   "metadata": {},
   "outputs": [],
   "source": [
    "# Create an expert with template variables\n",
    "template_expert = Expert(\n",
    "    specialty=\"Content Writer specializing in {domain}\",\n",
    "    objective=\"Create {content_type} content for {audience}\",\n",
    "    background=\"You have experience writing {tone} content about {domain}.\",\n",
    "    api_key=API_KEY,\n",
    "    security_level=\"minimal\"\n",
    ")\n",
    "\n",
    "# Create an operation with template variables\n",
    "template_operation = Operation(\n",
    "    instructions=\"Write a {length} article about {topic} for {audience}. The tone should be {tone}.\",\n",
    "    output_format=\"A well-formatted {content_type}\",\n",
    "    expert=template_expert\n",
    ")\n",
    "\n",
    "# Create a squad\n",
    "template_squad = Squad(\n",
    "    experts=[template_expert],\n",
    "    operations=[template_operation],\n",
    "    process=\"sequential\",\n",
    "    security_level=\"minimal\"\n",
    ")\n",
    "\n",
    "# Define guardrail inputs\n",
    "guardrails = {\n",
    "    \"domain\": \"technology\",\n",
    "    \"content_type\": \"blog post\",\n",
    "    \"audience\": \"beginners\",\n",
    "    \"tone\": \"friendly\",\n",
    "    \"length\": \"short\",\n",
    "    \"topic\": \"machine learning basics\"\n",
    "}\n",
    "\n",
    "# Deploy with guardrails\n",
    "template_result = template_squad.deploy(guardrails=guardrails)\n",
    "\n",
    "# Display the result\n",
    "display(Markdown(template_result))"
   ]
  },
  {
   "cell_type": "markdown",
   "metadata": {},
   "source": [
    "### Conditional Formatting with Select Syntax\n",
    "\n",
    "The select syntax allows for conditional content based on guardrail values."
   ]
  },
  {
   "cell_type": "code",
   "execution_count": null,
   "metadata": {},
   "outputs": [],
   "source": [
    "# Create an expert\n",
    "conditional_expert = Expert(\n",
    "    specialty=\"Content Writer\",\n",
    "    objective=\"Create engaging content\",\n",
    "    api_key=API_KEY,\n",
    "    security_level=\"minimal\"\n",
    ")\n",
    "\n",
    "# Create an operation with conditional formatting\n",
    "conditional_operation = Operation(\n",
    "    instructions=\"\"\"Write a short article about {topic}.\n",
    "\n",
    "{tone, select,\n",
    "  formal:Use a professional, academic tone suitable for scholarly publications.|  \n",
    "  conversational:Use a friendly, approachable tone as if speaking directly to the reader.|  \n",
    "  technical:Use precise technical language appropriate for experts in the field.\n",
    "}\n",
    "\n",
    "{include_examples, select,\n",
    "  true:Include practical examples to illustrate key points.|  \n",
    "  false:Focus on theoretical concepts without specific examples.\n",
    "}\n",
    "\"\"\",\n",
    "    expert=conditional_expert\n",
    ")\n",
    "\n",
    "# Create a squad\n",
    "conditional_squad = Squad(\n",
    "    experts=[conditional_expert],\n",
    "    operations=[conditional_operation],\n",
    "    process=\"sequential\",\n",
    "    security_level=\"minimal\"\n",
    ")\n",
    "\n",
    "# Define guardrail inputs\n",
    "conditional_guardrails = {\n",
    "    \"topic\": \"artificial intelligence\",\n",
    "    \"tone\": \"conversational\",\n",
    "    \"include_examples\": \"true\"\n",
    "}\n",
    "\n",
    "# Deploy with guardrails\n",
    "conditional_result = conditional_squad.deploy(guardrails=conditional_guardrails)\n",
    "\n",
    "# Display the result\n",
    "display(Markdown(conditional_result))"
   ]
  },
  {
   "cell_type": "markdown",
   "metadata": {},
   "source": [
    "## 4. Result Destination\n",
    "\n",
    "The result_destination parameter allows you to automatically save operation and squad results to files in various formats."
   ]
  },
  {
   "cell_type": "markdown",
   "metadata": {},
   "source": [
    "### Operation Result Destination\n",
    "\n",
    "For individual operations, the result_destination parameter is a simple string specifying the file path where the result should be saved."
   ]
  },
  {
   "cell_type": "code",
   "execution_count": null,
   "metadata": {},
   "outputs": [],
   "source": [
    "# Create an expert\n",
    "destination_expert = Expert(\n",
    "    specialty=\"Content Writer\",\n",
    "    objective=\"Create engaging content\",\n",
    "    api_key=API_KEY,\n",
    "    security_level=\"minimal\"\n",
    ")\n",
    "\n",
    "# Create operations with different result_destination formats\n",
    "txt_operation = Operation(\n",
    "    instructions=\"Write a short paragraph about renewable energy in TXT format.\",\n",
    "    expert=destination_expert,\n",
    "    result_destination=\"output/energy.txt\"\n",
    ")\n",
    "\n",
    "md_operation = Operation(\n",
    "    instructions=\"Write a short paragraph about renewable energy in MD format.\",\n",
    "    expert=destination_expert,\n",
    "    result_destination=\"output/energy.md\"\n",
    ")\n",
    "\n",
    "json_operation = Operation(\n",
    "    instructions=\"Write a short paragraph about renewable energy in JSON format.\",\n",
    "    expert=destination_expert,\n",
    "    result_destination=\"output/energy.json\"\n",
    ")\n",
    "\n",
    "html_operation = Operation(\n",
    "    instructions=\"Write a short paragraph about renewable energy in HTML format.\",\n",
    "    expert=destination_expert,\n",
    "    result_destination=\"output/energy.html\"\n",
    ")\n",
    "\n",
    "# Execute the operations\n",
    "txt_result = txt_operation.execute()\n",
    "md_result = md_operation.execute()\n",
    "json_result = json_operation.execute()\n",
    "html_result = html_operation.execute()\n",
    "\n",
    "# Display the results\n",
    "print(\"TXT Result:\")\n",
    "print(txt_result)\n",
    "\n",
    "print(\"\\nMD Result:\")\n",
    "display(Markdown(md_result))\n",
    "\n",
    "print(\"\\nJSON Result:\")\n",
    "print(json_result)\n",
    "\n",
    "print(\"\\nHTML Result:\")\n",
    "display(HTML(html_result))"
   ]
  },
  {
   "cell_type": "markdown",
   "metadata": {},
   "source": [
    "### Squad Result Destination\n",
    "\n",
    "For squads, the result_destination parameter is a dictionary that specifies the format and file path for the result."
   ]
  },
  {
   "cell_type": "code",
   "execution_count": null,
   "metadata": {},
   "outputs": [],
   "source": [
    "# Create a squad with result_destination\n",
    "destination_squad = Squad(\n",
    "    experts=[destination_expert],\n",
    "    operations=[txt_operation, md_operation],\n",
    "    process=\"sequential\",\n",
    "    security_level=\"minimal\",\n",
    "    result_destination={\n",
    "        \"format\": \"json\",\n",
    "        \"file_path\": \"output/squad_result.json\"\n",
    "    }\n",
    ")\n",
    "\n",
    "# Deploy the squad\n",
    "squad_result = destination_squad.deploy()\n",
    "\n",
    "# Display the result\n",
    "print(\"Squad Result:\")\n",
    "print(squad_result)\n",
    "\n",
    "# Read and display the saved JSON file\n",
    "with open(\"output/squad_result.json\", \"r\") as f:\n",
    "    saved_result = json.load(f)\n",
    "    \n",
    "print(\"\\nSaved JSON Result:\")\n",
    "print(json.dumps(saved_result, indent=2))"
   ]
  },
  {
   "cell_type": "markdown",
   "metadata": {},
   "source": [
    "## Combining Features\n",
    "\n",
    "Now let's combine all these features in a single example."
   ]
  },
  {
   "cell_type": "code",
   "execution_count": null,
   "metadata": {},
   "outputs": [],
   "source": [
    "# Create an expert with template variables\n",
    "combined_expert = Expert(\n",
    "    specialty=\"{role} specializing in {domain}\",\n",
    "    objective=\"Create {content_type} content for {audience}\",\n",
    "    background=\"You have experience in {domain} and creating content for {audience}.\",\n",
    "    api_key=API_KEY,\n",
    "    security_level=\"minimal\"\n",
    ")\n",
    "\n",
    "# Create an operation with template variables and result_destination\n",
    "combined_operation = Operation(\n",
    "    instructions=\"\"\"Write a {length} article about {topic} for {audience}.\n",
    "    \n",
    "{tone, select,\n",
    "  formal:Use a professional, academic tone suitable for scholarly publications.|  \n",
    "  conversational:Use a friendly, approachable tone as if speaking directly to the reader.|  \n",
    "  technical:Use precise technical language appropriate for experts in the field.\n",
    "}\n",
    "\n",
    "{format, select,\n",
    "  markdown:Format the content using Markdown syntax.|  \n",
    "  plain:Use plain text without any special formatting.\n",
    "}\n",
    "\"\"\",\n",
    "    expert=combined_expert,\n",
    "    result_destination=\"output/combined_result.md\"\n",
    ")\n",
    "\n",
    "# Create a squad with result_destination\n",
    "combined_squad = Squad(\n",
    "    experts=[combined_expert],\n",
    "    operations=[combined_operation],\n",
    "    process=\"sequential\",\n",
    "    security_level=\"minimal\",\n",
    "    result_destination={\n",
    "        \"format\": \"html\",\n",
    "        \"file_path\": \"output/combined_squad_result.html\"\n",
    "    }\n",
    ")\n",
    "\n",
    "# Define guardrail inputs\n",
    "combined_guardrails = {\n",
    "    \"role\": \"Content Writer\",\n",
    "    \"domain\": \"artificial intelligence\",\n",
    "    \"content_type\": \"blog post\",\n",
    "    \"audience\": \"beginners\",\n",
    "    \"length\": \"short\",\n",
    "    \"topic\": \"machine learning applications\",\n",
    "    \"tone\": \"conversational\",\n",
    "    \"format\": \"markdown\"\n",
    "}\n",
    "\n",
    "# Deploy with guardrails\n",
    "combined_result = combined_squad.deploy(guardrails=combined_guardrails)\n",
    "\n",
    "# Display the result\n",
    "display(Markdown(combined_result))\n",
    "\n",
    "# Read and display the saved HTML file\n",
    "with open(\"output/combined_squad_result.html\", \"r\") as f:\n",
    "    html_content = f.read()\n",
    "    \n",
    "print(\"\\nSaved HTML Result (preview):\")\n",
    "print(html_content[:500] + \"...\")"
   ]
  },
  {
   "cell_type": "markdown",
   "metadata": {},
   "source": [
    "## Conclusion\n",
    "\n",
    "In this notebook, we've demonstrated the key features of the TBH Secure Agents framework:\n",
    "\n",
    "1. **Basic Usage**: Creating experts, operations, and squads\n",
    "2. **Security Profiles**: Using different security profiles (minimal, low, standard)\n",
    "3. **Guardrails**: Using template variables and conditional formatting\n",
    "4. **Result Destination**: Saving results to files in various formats\n",
    "\n",
    "These features can be combined in various ways to create powerful multi-agent systems for a wide range of applications."
   ]
  }
 ],
 "metadata": {
  "kernelspec": {
   "display_name": "Python 3",
   "language": "python",
   "name": "python3"
  },
  "language_info": {
   "codemirror_mode": {
    "name": "ipython",
    "version": 3
   },
   "file_extension": ".py",
   "mimetype": "text/x-python",
   "name": "python",
   "nbconvert_exporter": "python",
   "pygments_lexer": "ipython3",
   "version": "3.8.10"
  }
 },
 "nbformat": 4,
 "nbformat_minor": 4
}
